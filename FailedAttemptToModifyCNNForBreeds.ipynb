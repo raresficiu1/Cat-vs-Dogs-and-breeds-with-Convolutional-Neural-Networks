{
 "cells": [
  {
   "cell_type": "code",
   "execution_count": 91,
   "metadata": {},
   "outputs": [],
   "source": [
    "import glob\n",
    "import skimage\n",
    "import os\n",
    "from skimage import io\n",
    "import matplotlib\n",
    "import matplotlib.pyplot as plt\n",
    "import sys\n",
    "import tensorflow as tf\n",
    "import numpy as np\n",
    "from tensorflow.contrib.layers import fully_connected\n",
    "from tensorflow.contrib.metrics import f1_score\n",
    "from skimage.transform import rescale, resize\n",
    "import random\n",
    "from sklearn.model_selection import train_test_split\n",
    "from sklearn.metrics import f1_score\n",
    "import sklearn.metrics\n",
    "import time\n",
    "from sklearn.utils import shuffle\n",
    "from collections import Counter"
   ]
  },
  {
   "cell_type": "code",
   "execution_count": 92,
   "metadata": {},
   "outputs": [
    {
     "name": "stdout",
     "output_type": "stream",
     "text": [
      "127 12\n"
     ]
    }
   ],
   "source": [
    "dogs_races = glob.glob('/home/ficiu/Desktop/Train_data/Caini/Cu rasa/*')\n",
    "cats_races = glob.glob('/home/ficiu/Desktop/Train_data/Pisici/Cu rasa/*')\n",
    "dogs_without_race=glob.glob('/home/ficiu/Desktop/Train_data/Caini/Fara rasa/*')\n",
    "cats_without_race=glob.glob('/home/ficiu/Desktop/Train_data/Pisici/Fara rasa/*')\n",
    "print(len(dogs_races),len(cats_races))"
   ]
  },
  {
   "cell_type": "code",
   "execution_count": 93,
   "metadata": {},
   "outputs": [],
   "source": [
    "def appendingFunction(X_dataset,y_dataset,thelist):\n",
    "    for each in thelist:\n",
    "        for i in glob.glob(each+'*'):\n",
    "            X_dataset.append(i)\n",
    "            y_races.append(each.split('/')[-1])\n",
    "    return X_dataset,y_dataset"
   ]
  },
  {
   "cell_type": "code",
   "execution_count": 94,
   "metadata": {},
   "outputs": [],
   "source": [
    "X_cats_dogs=[]\n",
    "y_cats_dogs=[]\n",
    "\n",
    "X_races=[]\n",
    "y_races=[]\n",
    "z_races=[]\n",
    "\n",
    "X_races,y_races=appendingFunction(X_races,y_races,dogs_races)\n",
    "X_races,y_races=appendingFunction(X_races,y_races,cats_races)"
   ]
  },
  {
   "cell_type": "code",
   "execution_count": 95,
   "metadata": {},
   "outputs": [
    {
     "name": "stdout",
     "output_type": "stream",
     "text": [
      "139 139\n"
     ]
    }
   ],
   "source": [
    "print(len(X_races),len(y_races))"
   ]
  },
  {
   "cell_type": "code",
   "execution_count": 97,
   "metadata": {},
   "outputs": [
    {
     "name": "stdout",
     "output_type": "stream",
     "text": [
      "48427 24933\n"
     ]
    }
   ],
   "source": [
    "count_dogs=0\n",
    "count_cats=0\n",
    "for each in dogs_races:\n",
    "    for i in glob.glob(each+'/*'):\n",
    "        X_cats_dogs.append(i)\n",
    "        y_cats_dogs.append('1')\n",
    "        count_dogs+=1\n",
    "        \n",
    "for each in cats_races:\n",
    "    for i in glob.glob(each+'/*'):\n",
    "        X_cats_dogs.append(i)\n",
    "        y_cats_dogs.append('0')\n",
    "        count_cats+=1\n",
    "        \n",
    "for each in dogs_without_race:\n",
    "    X_cats_dogs.append(each)\n",
    "    y_cats_dogs.append('1')\n",
    "    count_dogs+=1\n",
    "\n",
    "for each in cats_without_race:\n",
    "    X_cats_dogs.append(each)\n",
    "    y_cats_dogs.append('0')\n",
    "    count_cats+=1\n",
    "\n",
    "    \n",
    "print(count_dogs,count_cats)\n",
    "X_cats_dogs, y_cats_dogs = shuffle(X_cats_dogs, y_cats_dogs)\n",
    "X_cats_dogs=X_cats_dogs\n",
    "y_cats_dogs=y_cats_dogs"
   ]
  },
  {
   "cell_type": "code",
   "execution_count": 84,
   "metadata": {},
   "outputs": [],
   "source": [
    "X_races=X_races[:138]\n",
    "y_races=y_races[:138]"
   ]
  },
  {
   "cell_type": "code",
   "execution_count": 85,
   "metadata": {},
   "outputs": [
    {
     "name": "stdout",
     "output_type": "stream",
     "text": [
      "redbone bordercollie irishsetter airedale pomeranian doberman germanshepherd englishspringer samoyed afghanhound walkerhound boxer bloodhound pembroke bernesemountaindog bullmastiff dhole leonberg entlebucher americanstaffordshireterrier germanshorthaired labradorretriever affenpinscher pekinese borzoi saintbernard basset greatdane borderterrier irishterrier lakelandterrier toypoodle flat-coatedretriever goldenretriever malamute groenendael tibetanmastiff malinois appenzeller brabancongriffon americanpitbullterrier sealyhamterrier chow otterhound curly-coatedretriever englishsetter mexicanhairless bluetick chesapeakebayretriever siberianhusky wire-hairedfoxterrier shetlandsheepdog saluki welshspringerspaniel greatpyrenees weimaraner clumber newfoundland irishwaterspaniel rhodesianridgeback gordonsetter komondor toyterrier bostonbull frenchbulldog collie dingo havanese blenheimspaniel yorkshireterrier kuvasz americanbulldog miniaturepoodle japanesechin keeshond standardpoodle scottishdeerhound englishcockerspaniel irishwolfhound bouvierdesflandres bedlingtonterrier cardigan shih-tzu chihuahua tibetanterrier beagle englishfoxhound pug australianterrier africanhuntingdog norwichterrier papillon miniaturepinscher briard norwegianelkhound scotchterrier whippet wheatenterrier norfolkterrier kelpie brittanyspaniel staffordshirebullterrier westhighlandwhiteterrier oldenglishsheepdog rottweiler dandiedinmont miniatureschnauzer lhasa japanesespaniel soft-coatedwheatenterrier basenji schipperke cairn giantschnauzer maltesedog kerryblueterrier vizsla greaterswissmountaindog black-and-tancoonhound standardschnauzer ibizanhound silkyterrier sussexspaniel shibainu cockerspaniel eskimodog italiangreyhound egyptianmau sphynx persian bengal ragdoll mainecoon britishshorthair russianblue siamese abyssinian birman\n"
     ]
    }
   ],
   "source": [
    "y_races1=y_races[0]\n",
    "for each in y_races[1:]:\n",
    "    y_races1=y_races1+' '+each\n",
    "print(y_races1)"
   ]
  },
  {
   "cell_type": "code",
   "execution_count": null,
   "metadata": {},
   "outputs": [],
   "source": []
  },
  {
   "cell_type": "code",
   "execution_count": 86,
   "metadata": {},
   "outputs": [
    {
     "data": {
      "text/plain": [
       "'redbone bordercollie irishsetter airedale pomeranian doberman germanshepherd englishspringer samoyed afghanhound walkerhound boxer bloodhound pembroke bernesemountaindog bullmastiff dhole leonberg entlebucher americanstaffordshireterrier germanshorthaired labradorretriever affenpinscher pekinese borzoi saintbernard basset greatdane borderterrier irishterrier lakelandterrier toypoodle flat-coatedretriever goldenretriever malamute groenendael tibetanmastiff malinois appenzeller brabancongriffon americanpitbullterrier sealyhamterrier chow otterhound curly-coatedretriever englishsetter mexicanhairless bluetick chesapeakebayretriever siberianhusky wire-hairedfoxterrier shetlandsheepdog saluki welshspringerspaniel greatpyrenees weimaraner clumber newfoundland irishwaterspaniel rhodesianridgeback gordonsetter komondor toyterrier bostonbull frenchbulldog collie dingo havanese blenheimspaniel yorkshireterrier kuvasz americanbulldog miniaturepoodle japanesechin keeshond standardpoodle scottishdeerhound englishcockerspaniel irishwolfhound bouvierdesflandres bedlingtonterrier cardigan shih-tzu chihuahua tibetanterrier beagle englishfoxhound pug australianterrier africanhuntingdog norwichterrier papillon miniaturepinscher briard norwegianelkhound scotchterrier whippet wheatenterrier norfolkterrier kelpie brittanyspaniel staffordshirebullterrier westhighlandwhiteterrier oldenglishsheepdog rottweiler dandiedinmont miniatureschnauzer lhasa japanesespaniel soft-coatedwheatenterrier basenji schipperke cairn giantschnauzer maltesedog kerryblueterrier vizsla greaterswissmountaindog black-and-tancoonhound standardschnauzer ibizanhound silkyterrier sussexspaniel shibainu cockerspaniel eskimodog italiangreyhound egyptianmau sphynx persian bengal ragdoll mainecoon britishshorthair russianblue siamese abyssinian birman'"
      ]
     },
     "execution_count": 86,
     "metadata": {},
     "output_type": "execute_result"
    }
   ],
   "source": [
    "y_races1"
   ]
  },
  {
   "cell_type": "code",
   "execution_count": 87,
   "metadata": {},
   "outputs": [
    {
     "data": {
      "text/plain": [
       "Counter({0: 148,\n",
       "         1: 150,\n",
       "         2: 155,\n",
       "         3: 202,\n",
       "         4: 419,\n",
       "         5: 150,\n",
       "         6: 152,\n",
       "         7: 159,\n",
       "         8: 418,\n",
       "         9: 239,\n",
       "         10: 153,\n",
       "         11: 351,\n",
       "         12: 187,\n",
       "         13: 181,\n",
       "         14: 218,\n",
       "         15: 156,\n",
       "         16: 150,\n",
       "         17: 410,\n",
       "         18: 202,\n",
       "         19: 164,\n",
       "         20: 352,\n",
       "         21: 171,\n",
       "         22: 150,\n",
       "         23: 149,\n",
       "         24: 151,\n",
       "         25: 370,\n",
       "         26: 375,\n",
       "         27: 156,\n",
       "         28: 172,\n",
       "         29: 169,\n",
       "         30: 197,\n",
       "         31: 151,\n",
       "         32: 152,\n",
       "         33: 150,\n",
       "         34: 178,\n",
       "         35: 150,\n",
       "         36: 152,\n",
       "         37: 150,\n",
       "         38: 151,\n",
       "         39: 153,\n",
       "         40: 200,\n",
       "         41: 202,\n",
       "         42: 196,\n",
       "         43: 151,\n",
       "         44: 151,\n",
       "         45: 361,\n",
       "         46: 155,\n",
       "         47: 171,\n",
       "         48: 167,\n",
       "         49: 192,\n",
       "         50: 157,\n",
       "         51: 157,\n",
       "         52: 200,\n",
       "         53: 150,\n",
       "         54: 413,\n",
       "         55: 160,\n",
       "         56: 150,\n",
       "         57: 395,\n",
       "         58: 150,\n",
       "         59: 172,\n",
       "         60: 153,\n",
       "         61: 154,\n",
       "         62: 172,\n",
       "         63: 182,\n",
       "         64: 159,\n",
       "         65: 153,\n",
       "         66: 156,\n",
       "         67: 200,\n",
       "         68: 188,\n",
       "         69: 364,\n",
       "         70: 150,\n",
       "         71: 200,\n",
       "         72: 155,\n",
       "         73: 200,\n",
       "         74: 358,\n",
       "         75: 159,\n",
       "         76: 232,\n",
       "         77: 200,\n",
       "         78: 218,\n",
       "         79: 150,\n",
       "         80: 182,\n",
       "         81: 155,\n",
       "         82: 214,\n",
       "         83: 352,\n",
       "         84: 206,\n",
       "         85: 395,\n",
       "         86: 157,\n",
       "         87: 400,\n",
       "         88: 196,\n",
       "         89: 169,\n",
       "         90: 185,\n",
       "         91: 196,\n",
       "         92: 384,\n",
       "         93: 152,\n",
       "         94: 196,\n",
       "         95: 357,\n",
       "         96: 187,\n",
       "         97: 200,\n",
       "         98: 172,\n",
       "         99: 153,\n",
       "         100: 152,\n",
       "         101: 346,\n",
       "         102: 169,\n",
       "         103: 169,\n",
       "         104: 152,\n",
       "         105: 180,\n",
       "         106: 154,\n",
       "         107: 186,\n",
       "         108: 185,\n",
       "         109: 156,\n",
       "         110: 209,\n",
       "         111: 154,\n",
       "         112: 197,\n",
       "         113: 157,\n",
       "         114: 252,\n",
       "         115: 179,\n",
       "         116: 154,\n",
       "         117: 168,\n",
       "         118: 159,\n",
       "         119: 155,\n",
       "         120: 188,\n",
       "         121: 183,\n",
       "         122: 151,\n",
       "         123: 200,\n",
       "         124: 159,\n",
       "         125: 150,\n",
       "         126: 182,\n",
       "         127: 200,\n",
       "         128: 200,\n",
       "         129: 200,\n",
       "         130: 200,\n",
       "         131: 200,\n",
       "         132: 200,\n",
       "         133: 200,\n",
       "         134: 200,\n",
       "         135: 200,\n",
       "         136: 198,\n",
       "         137: 200})"
      ]
     },
     "execution_count": 87,
     "metadata": {},
     "output_type": "execute_result"
    }
   ],
   "source": [
    "X_final=[]\n",
    "y_final=[]\n",
    "for each in X_races:\n",
    "    list_pictures=glob.glob(each+'/*')\n",
    "    for each1 in list_pictures:\n",
    "        X_final.append(each1)\n",
    "        y_final.append(y_races.index(each1.split('/')[-2]))\n",
    "Counter(y_final)"
   ]
  },
  {
   "cell_type": "code",
   "execution_count": 1414,
   "metadata": {},
   "outputs": [],
   "source": [
    "def test_echilibrate(X_batch,y_batch):\n",
    "    appearences=Counter(y_batch)\n",
    "    prev=appearences[0]\n",
    "    balanced=True\n",
    "    for each in appearences:\n",
    "        if(appearences[each]!=appearences[prev]):\n",
    "            balanced=True\n",
    "            break\n",
    "    return balanced"
   ]
  },
  {
   "cell_type": "code",
   "execution_count": 88,
   "metadata": {},
   "outputs": [],
   "source": [
    "def echilibrate_dataset(X_batch1 ,y_batch1):\n",
    "    X_batch=X_batch1.copy()\n",
    "    y_batch=y_batch1.copy()\n",
    "    X_batch.append('/home/ficiu/Desktop/Train_data/Caini/Cu rasa/asdasdadasdasdassdasd/8.jpg')\n",
    "    y_batch.append('asdasdadasdasdassdasd')\n",
    "    appearences=Counter(y_batch)\n",
    "    howMany=0\n",
    "    for each in appearences:\n",
    "        if(appearences[each]>howMany):\n",
    "            howMany=appearences[each]\n",
    "    \n",
    "    count=1\n",
    "    locationPrev=0\n",
    "    current=X_batch[0]\n",
    "    for i in X_batch[1:]:\n",
    "        current1=i\n",
    "        prev=current.split('/')[-2]\n",
    "        now=current1.split('/')[-2]\n",
    "        if(prev==now) and (current1!=X_batch[-1]):\n",
    "            count+=1\n",
    "        else :\n",
    "            j=locationPrev\n",
    "            while(count<howMany):\n",
    "                X_batch.append(X_batch[j])\n",
    "                y_batch.append(y_batch[j])\n",
    "                j+=1\n",
    "                count+=1\n",
    "                if(j>=X_batch.index(current1)):\n",
    "                    j=locationPrev\n",
    "            \n",
    "            current=current1\n",
    "            locationPrev=X_batch.index(current1)\n",
    "            count=1\n",
    "    X_batch.remove('/home/ficiu/Desktop/Train_data/Caini/Cu rasa/asdasdadasdasdassdasd/8.jpg')\n",
    "    y_batch.remove('asdasdadasdasdassdasd')\n",
    "    return X_batch,y_batch"
   ]
  },
  {
   "cell_type": "code",
   "execution_count": null,
   "metadata": {},
   "outputs": [],
   "source": [
    "X_final1,y_final1=echilibrate_dataset(X_final,y_cats_dogs)\n",
    "print(len(X_final1),len(y_final1))"
   ]
  },
  {
   "cell_type": "code",
   "execution_count": 90,
   "metadata": {},
   "outputs": [
    {
     "data": {
      "text/plain": [
       "Counter({'1': 6189, '0': 1683})"
      ]
     },
     "execution_count": 90,
     "metadata": {},
     "output_type": "execute_result"
    }
   ],
   "source": [
    "Counter(y_final1)"
   ]
  },
  {
   "cell_type": "code",
   "execution_count": 1418,
   "metadata": {},
   "outputs": [],
   "source": [
    "def create_weights_vector(shape):\n",
    "    return tf.Variable(tf.truncated_normal(shape, stddev=0.05))\n",
    "def create_biases_vector(length):\n",
    "    return tf.Variable(tf.constant(0.05, shape=[length]))"
   ]
  },
  {
   "cell_type": "code",
   "execution_count": 1419,
   "metadata": {},
   "outputs": [],
   "source": [
    "def create_convolutional_Layer(input, channels, filter_x, filter_y, num_filters, stride, with_Pooling=True):\n",
    "    shape = [filter_x, filter_y, channels, num_filters]\n",
    "    # Create new weights aka. filters with the given shape.\n",
    "    weights = create_weights_vector(shape=shape)\n",
    "    print(weights.shape)\n",
    "    # Create new biases, one for each filter.\n",
    "    biases = create_biases_vector(length=num_filters)\n",
    "    layer = tf.nn.conv2d(input=input,filter=weights,strides=[1, stride, stride, 1],padding='SAME')\n",
    "    layer += biases\n",
    "    if with_Pooling:\n",
    "        # This is 2x2 max-pooling, which means that we\n",
    "        # consider 2x2 windows and select the largest value\n",
    "        # in each window. Then we move 2 pixels to the next window.\n",
    "        layer = tf.nn.max_pool(value=layer,\n",
    "                               ksize=[1, 2, 2, 1],\n",
    "                               strides=[1, 2, 2, 1],\n",
    "                               padding='SAME')\n",
    "    layer = tf.nn.leaky_relu(layer)\n",
    "    return layer, weights"
   ]
  },
  {
   "cell_type": "code",
   "execution_count": 1420,
   "metadata": {},
   "outputs": [],
   "source": [
    "def flatten_layer(layer):\n",
    "\n",
    "    layer_shape = layer.get_shape()\n",
    "\n",
    "    num_features = layer_shape[1:4].num_elements()\n",
    "\n",
    "    layer_flat = tf.reshape(layer, [-1, num_features])\n",
    "\n",
    "    return layer_flat, num_features"
   ]
  },
  {
   "cell_type": "code",
   "execution_count": 1421,
   "metadata": {},
   "outputs": [],
   "source": [
    "def new_fc_layer(input,\n",
    "                 num_inputs,\n",
    "                 num_outputs, \n",
    "                 use_Leaky_relu=True): \n",
    "\n",
    "    weights = create_weights_vector(shape=[num_inputs, num_outputs])\n",
    "    biases = create_biases_vector(length=num_outputs)\n",
    "    layer = tf.matmul(input, weights) + biases\n",
    "    if use_Leaky_relu:\n",
    "        layer = tf.nn.leaky_relu(layer)\n",
    "    return layer"
   ]
  },
  {
   "cell_type": "code",
   "execution_count": 1422,
   "metadata": {},
   "outputs": [],
   "source": [
    "def CrossValidation(X_dataset,y_dataset,currentPosition,batch_size):\n",
    "    try:\n",
    "        return X_dataset[currentPosition:currentPosition+batch_size],y_dataset[currentPosition:currentPosition+batch_size]\n",
    "    \n",
    "    except:\n",
    "        return X_dataset[currentPosition:],y_dataset[currentPosition:]"
   ]
  },
  {
   "cell_type": "code",
   "execution_count": 1423,
   "metadata": {},
   "outputs": [],
   "source": [
    "def prepare_batch(batch_size ,startPointInDataset ,X_dataset ,Y_dataset ,pic_width, pic_height):\n",
    "    x_batch=np.zeros(batch_size*pic_width*pic_height*3).reshape(batch_size, pic_width, pic_height,3) #pregatit forma matricei de input\n",
    "    y_batch=np.zeros(batch_size)   #pregatit forma matricei label\n",
    "    \n",
    "    #Daca Batchsizeul + starting position > lungimea datasetului\n",
    "    #Micesc Batchsizeul si antrenez pe ce o ramas\n",
    "    if(startPointInDataset+batch_size>len(X_dataset)):\n",
    "        newBatchSize=len(X_dataset)-startPointInDataset\n",
    "        x_batch,y_batch=prepare_batch(newBatchSize,startPointInDataset,X_dataset,Y_dataset,pic_width, pic_height)\n",
    "    else:\n",
    "        i=0\n",
    "        while i < batch_size:\n",
    "            #Citesc poza\n",
    "            try:\n",
    "                poza_resized = resize(io.imread(X_dataset[startPointInDataset+i]),(pic_height,pic_width),anti_aliasing=True)\n",
    "                if(poza_resized.flatten().shape[0]==pic_height*pic_width*3):\n",
    "                    x_batch[i]=poza_resized\n",
    "                    y_batch[i]=Y_dataset[startPointInDataset+i]\n",
    "                \n",
    "            except:\n",
    "                print(\"POZA: \", X_dataset[startPointInDataset:startPointInDataset+batch_size][i], \"Nu e buna\")\n",
    "                if(i>0):\n",
    "                    x_batch[i]=x_batch[i-1]\n",
    "                    y_batch[i]=y_batch[i-1]\n",
    "            i+=1\n",
    "            \n",
    "    return x_batch , y_batch"
   ]
  },
  {
   "cell_type": "code",
   "execution_count": 1424,
   "metadata": {},
   "outputs": [],
   "source": [
    "Kernelshape=(50,40)\n",
    "Kernelshape1=(25,20)\n",
    "Kernelshape2=(5,5)\n",
    "Kernelshape3=(5,5)\n",
    "num_filters=25\n",
    "num_filters1=50\n",
    "num_filters2=50\n",
    "num_filters3=50\n",
    "\n",
    "fullyconnected=200\n",
    "fullyconnected1=139\n",
    "stride=1\n",
    "image_size=(200,200,3)"
   ]
  },
  {
   "cell_type": "code",
   "execution_count": 1425,
   "metadata": {},
   "outputs": [],
   "source": [
    "#Input and output placeholders\n",
    "tf.reset_default_graph\n",
    "X=tf.placeholder(tf.float32,shape=(None,image_size[0],image_size[1],3),name=\"X\")\n",
    "X_Normalized=tf.nn.batch_normalization(X,mean=0,variance=1,offset=0,scale=1,variance_epsilon=0.01, name=\"X_Normalized\")\n",
    "y=tf.placeholder(tf.int64,shape=(None),name=\"y\")\n",
    "weights=tf.placeholder(tf.float32,shape=(None),name=\"weights\")"
   ]
  },
  {
   "cell_type": "code",
   "execution_count": 1426,
   "metadata": {},
   "outputs": [
    {
     "name": "stdout",
     "output_type": "stream",
     "text": [
      "(50, 40, 3, 25)\n",
      "(25, 20, 25, 50)\n",
      "(5, 5, 50, 50)\n",
      "(5, 5, 50, 50)\n"
     ]
    }
   ],
   "source": [
    "\n",
    "layer_conv1, weights_conv1 = create_convolutional_Layer(input=X_Normalized ,channels=image_size[2],filter_x=Kernelshape[0],filter_y=Kernelshape[1] ,num_filters=num_filters ,stride=1,with_Pooling=True)\n",
    "layer_conv2, weights_conv2 = create_convolutional_Layer(input= layer_conv1, channels=num_filters,filter_x=Kernelshape1[0],filter_y=Kernelshape1[1],num_filters=num_filters1,stride=1,with_Pooling=True)\n",
    "layer_conv3, weights_conv3 = create_convolutional_Layer(input= layer_conv2, channels=num_filters1,filter_x=Kernelshape2[0],filter_y=Kernelshape2[1],num_filters=num_filters2,stride=1,with_Pooling=True)\n",
    "layer_conv4, weights_conv4 = create_convolutional_Layer(input= layer_conv3, channels=num_filters2,filter_x=Kernelshape3[0],filter_y=Kernelshape3[1],num_filters=num_filters3,stride=1,with_Pooling=True)\n",
    "flattened, num_features = flatten_layer(layer_conv4)\n",
    "fullyConnected1 = new_fc_layer(input=flattened, num_inputs = num_features, num_outputs = fullyconnected,use_Leaky_relu=True)\n",
    "output = new_fc_layer(input=fullyConnected1, num_inputs = fullyconnected, num_outputs = fullyconnected1,use_Leaky_relu=True)"
   ]
  },
  {
   "cell_type": "code",
   "execution_count": 1427,
   "metadata": {},
   "outputs": [],
   "source": [
    "with tf.name_scope(\"loss\"):\n",
    "    xentropy=tf.nn.sparse_softmax_cross_entropy_with_logits(labels=y,logits=output)\n",
    "    loss=tf.reduce_mean(xentropy,name=\"loss\")"
   ]
  },
  {
   "cell_type": "code",
   "execution_count": 1428,
   "metadata": {},
   "outputs": [],
   "source": [
    "#The algorithm used to adjust all the variables in order to minimise the loss function from above (train)\n",
    "learning_rate=0.0005\n",
    "with tf.name_scope(\"train\"):\n",
    "    optimizer=tf.train.AdamOptimizer(learning_rate)\n",
    "    training_op=optimizer.minimize(loss)"
   ]
  },
  {
   "cell_type": "code",
   "execution_count": 1429,
   "metadata": {},
   "outputs": [],
   "source": [
    "#How the network will be evaluated\n",
    "with tf.name_scope(\"eval\"):\n",
    "    correct=tf.nn.in_top_k(output,y,1)\n",
    "    accuracy =tf.reduce_mean(tf.cast(correct,tf.float32))"
   ]
  },
  {
   "cell_type": "code",
   "execution_count": 1430,
   "metadata": {},
   "outputs": [],
   "source": [
    "init =tf.global_variables_initializer()\n",
    "saver=tf.train.Saver()\n",
    "pic_width=200\n",
    "pic_height=200\n",
    "n_epochs=100\n",
    "batch_size=20\n",
    "train=[]\n",
    "X_train, X_test, y_train, y_test = train_test_split(X_final, y_final, test_size=0.2,stratify=None)"
   ]
  },
  {
   "cell_type": "code",
   "execution_count": 1431,
   "metadata": {},
   "outputs": [],
   "source": [
    "X_train1, X_test1, y_train1, y_test1 = train_test_split(X_final1, y_final1, test_size=0.2)"
   ]
  },
  {
   "cell_type": "code",
   "execution_count": 1432,
   "metadata": {},
   "outputs": [
    {
     "data": {
      "text/plain": [
       "1676"
      ]
     },
     "execution_count": 1432,
     "metadata": {},
     "output_type": "execute_result"
    }
   ],
   "source": [
    "len(X_train1)"
   ]
  },
  {
   "cell_type": "code",
   "execution_count": 1433,
   "metadata": {},
   "outputs": [
    {
     "name": "stdout",
     "output_type": "stream",
     "text": [
      "Counter({0: 419, 1: 419, 2: 419, 3: 419, 4: 419})\n"
     ]
    }
   ],
   "source": [
    "print(Counter(y_final1))"
   ]
  },
  {
   "cell_type": "code",
   "execution_count": 53,
   "metadata": {},
   "outputs": [
    {
     "name": "stdout",
     "output_type": "stream",
     "text": [
      "Counter({0: 419, 1: 419, 2: 419, 3: 419, 4: 419, 5: 419, 6: 419, 7: 419, 8: 419, 9: 419, 10: 419, 11: 419, 12: 419, 13: 419, 14: 419, 15: 419, 16: 419, 17: 419, 18: 419, 19: 419, 20: 419, 21: 419, 22: 419, 23: 419, 24: 419, 25: 419, 26: 419, 27: 419, 28: 419, 29: 419, 30: 419, 31: 419, 32: 419, 33: 419, 34: 419, 35: 419, 36: 419, 37: 419, 38: 419, 39: 419, 40: 419, 41: 419, 42: 419, 43: 419, 44: 419, 45: 419, 46: 419, 47: 419, 48: 419, 49: 419, 50: 419, 51: 419, 52: 419, 53: 419, 54: 419, 55: 419, 56: 419, 57: 419, 58: 419, 59: 419, 60: 419, 61: 419, 62: 419, 63: 419, 64: 419, 65: 419, 66: 419, 67: 419, 68: 419, 69: 419, 70: 419, 71: 419, 72: 419, 73: 419, 74: 419, 75: 419, 76: 419, 77: 419, 78: 419, 79: 419, 80: 419, 81: 419, 82: 419, 83: 419, 84: 419, 85: 419, 86: 419, 87: 419, 88: 419, 89: 419, 90: 419, 91: 419, 92: 419, 93: 419, 94: 419, 95: 419, 96: 419, 97: 419, 98: 419, 99: 419, 100: 419, 101: 419, 102: 419, 103: 419, 104: 419, 105: 419, 106: 419, 107: 419, 108: 419, 109: 419, 110: 419, 111: 419, 112: 419, 113: 419, 114: 419, 115: 419, 116: 419, 117: 419, 118: 419, 119: 419, 120: 419, 121: 419, 122: 419, 123: 419, 124: 419, 125: 419, 126: 419, 127: 419, 128: 419, 129: 419, 130: 419, 131: 419, 132: 419, 133: 419, 134: 419, 135: 419, 136: 419, 137: 419, 138: 419})\n"
     ]
    },
    {
     "data": {
      "text/plain": [
       "(array([419., 419., 419., 419., 419., 419., 419., 419., 419., 419., 419.,\n",
       "        419., 419., 419., 419., 419., 419., 419., 419., 419., 419., 419.,\n",
       "        419., 419., 419., 419., 419., 419., 419., 419., 419., 419., 419.,\n",
       "        419., 419., 419., 419., 419., 419., 419., 419., 419., 419., 419.,\n",
       "        419., 419., 419., 419., 419., 419., 419., 419., 419., 419., 419.,\n",
       "        419., 419., 419., 419., 419., 419., 419., 419., 419., 419., 419.,\n",
       "        419., 419., 419., 419., 419., 419., 419., 419., 419., 419., 419.,\n",
       "        419., 419., 419., 419., 419., 419., 419., 419., 419., 419., 419.,\n",
       "        419., 419., 419., 419., 419., 419., 419., 419., 419., 419., 419.,\n",
       "        419., 419., 419., 419., 419., 419., 419., 419., 419., 419., 419.,\n",
       "        419., 419., 419., 419., 419., 419., 419., 419., 419., 419., 419.,\n",
       "        419., 419., 419., 419., 419., 419., 419., 419., 419., 419., 419.,\n",
       "        419., 419., 419., 419., 419., 419., 419.]),\n",
       " array([  0.        ,   0.99280576,   1.98561151,   2.97841727,\n",
       "          3.97122302,   4.96402878,   5.95683453,   6.94964029,\n",
       "          7.94244604,   8.9352518 ,   9.92805755,  10.92086331,\n",
       "         11.91366906,  12.90647482,  13.89928058,  14.89208633,\n",
       "         15.88489209,  16.87769784,  17.8705036 ,  18.86330935,\n",
       "         19.85611511,  20.84892086,  21.84172662,  22.83453237,\n",
       "         23.82733813,  24.82014388,  25.81294964,  26.8057554 ,\n",
       "         27.79856115,  28.79136691,  29.78417266,  30.77697842,\n",
       "         31.76978417,  32.76258993,  33.75539568,  34.74820144,\n",
       "         35.74100719,  36.73381295,  37.72661871,  38.71942446,\n",
       "         39.71223022,  40.70503597,  41.69784173,  42.69064748,\n",
       "         43.68345324,  44.67625899,  45.66906475,  46.6618705 ,\n",
       "         47.65467626,  48.64748201,  49.64028777,  50.63309353,\n",
       "         51.62589928,  52.61870504,  53.61151079,  54.60431655,\n",
       "         55.5971223 ,  56.58992806,  57.58273381,  58.57553957,\n",
       "         59.56834532,  60.56115108,  61.55395683,  62.54676259,\n",
       "         63.53956835,  64.5323741 ,  65.52517986,  66.51798561,\n",
       "         67.51079137,  68.50359712,  69.49640288,  70.48920863,\n",
       "         71.48201439,  72.47482014,  73.4676259 ,  74.46043165,\n",
       "         75.45323741,  76.44604317,  77.43884892,  78.43165468,\n",
       "         79.42446043,  80.41726619,  81.41007194,  82.4028777 ,\n",
       "         83.39568345,  84.38848921,  85.38129496,  86.37410072,\n",
       "         87.36690647,  88.35971223,  89.35251799,  90.34532374,\n",
       "         91.3381295 ,  92.33093525,  93.32374101,  94.31654676,\n",
       "         95.30935252,  96.30215827,  97.29496403,  98.28776978,\n",
       "         99.28057554, 100.27338129, 101.26618705, 102.25899281,\n",
       "        103.25179856, 104.24460432, 105.23741007, 106.23021583,\n",
       "        107.22302158, 108.21582734, 109.20863309, 110.20143885,\n",
       "        111.1942446 , 112.18705036, 113.17985612, 114.17266187,\n",
       "        115.16546763, 116.15827338, 117.15107914, 118.14388489,\n",
       "        119.13669065, 120.1294964 , 121.12230216, 122.11510791,\n",
       "        123.10791367, 124.10071942, 125.09352518, 126.08633094,\n",
       "        127.07913669, 128.07194245, 129.0647482 , 130.05755396,\n",
       "        131.05035971, 132.04316547, 133.03597122, 134.02877698,\n",
       "        135.02158273, 136.01438849, 137.00719424, 138.        ]),\n",
       " <a list of 139 Patch objects>)"
      ]
     },
     "execution_count": 53,
     "metadata": {},
     "output_type": "execute_result"
    },
    {
     "data": {
      "image/png": "[encoded data removed]",
      "text/plain": [
       "<Figure size 432x288 with 1 Axes>"
      ]
     },
     "metadata": {
      "needs_background": "light"
     },
     "output_type": "display_data"
    }
   ],
   "source": [
    "fig, axs = plt.subplots(1, sharey=True, tight_layout=True)\n",
    "n_bins=139\n",
    "\n",
    "print(Counter(y_final1))\n",
    "axs.hist(y_final1,bins=n_bins)"
   ]
  },
  {
   "cell_type": "code",
   "execution_count": 104,
   "metadata": {},
   "outputs": [
    {
     "data": {
      "text/plain": [
       "(0.0, 48430.0)"
      ]
     },
     "execution_count": 104,
     "metadata": {},
     "output_type": "execute_result"
    },
    {
     "data": {
      "image/png": "[encoded data removed]",
      "text/plain": [
       "<Figure size 432x288 with 1 Axes>"
      ]
     },
     "metadata": {
      "needs_background": "light"
     },
     "output_type": "display_data"
    }
   ],
   "source": [
    "n, bins, patches = plt.hist(x=a, bins=2, color='#0504aa',\n",
    "                            alpha=0.7)\n",
    "\n",
    "plt.xlabel('Race')\n",
    "plt.ylabel('Number of labeled pictures')\n",
    "plt.title('Balanced race dataset')\n",
    "maxfreq = n.max()\n",
    "# Set a clean upper y-axis limit.\n",
    "plt.ylim(ymax=np.ceil(maxfreq / 10) * 10 if maxfreq % 10 else maxfreq + 10)"
   ]
  },
  {
   "cell_type": "code",
   "execution_count": 102,
   "metadata": {},
   "outputs": [],
   "source": [
    "a=[]\n",
    "for i in range(48427):\n",
    "    a.append('1')\n",
    "    a.append('0')"
   ]
  },
  {
   "cell_type": "code",
   "execution_count": 1440,
   "metadata": {},
   "outputs": [
    {
     "name": "stdout",
     "output_type": "stream",
     "text": [
      "Iteration:  0 / 42\n",
      "3.8329644 27.465702 1.2563574314117432\n",
      "Accuracy so far  0.0\n",
      "Iteration:  0 / 10\n",
      "Epoch:  0 Test Accuracy=  0.3441860454027043 Train Accuracy= 0.2724097822646462  with a time of: 51.65904688835144\n",
      "Iteration:  0 / 42\n",
      "-0.29010385 7.752991 1.2509689331054688\n",
      "Accuracy so far  0.30000001192092896\n",
      "Iteration:  0 / 10\n",
      "Epoch:  1 Test Accuracy=  0.4186046567074088 Train Accuracy= 0.37718277194724786  with a time of: 22.35449242591858\n",
      "Iteration:  0 / 42\n",
      "-0.8858945 10.178526 0.3942439556121826\n",
      "Accuracy so far  0.44999998807907104\n",
      "Iteration:  0 / 10\n",
      "Epoch:  2 Test Accuracy=  0.4604651179424552 Train Accuracy= 0.44237485760443424  with a time of: 18.53994083404541\n",
      "Iteration:  0 / 42\n",
      "-0.98840225 9.482455 0.38967227935791016\n",
      "Accuracy so far  0.550000011920929\n",
      "Iteration:  0 / 10\n",
      "Epoch:  3 Test Accuracy=  0.46046511517014616 Train Accuracy= 0.5203725298708337  with a time of: 19.486470460891724\n",
      "Iteration:  0 / 42\n",
      "-1.2421507 10.650523 0.4021337032318115\n",
      "Accuracy so far  0.6499999761581421\n",
      "Iteration:  0 / 10\n",
      "Epoch:  4 Test Accuracy=  0.44651162901590036 Train Accuracy= 0.5273573959248445  with a time of: 18.789774417877197\n",
      "Iteration:  0 / 42\n",
      "-1.3571416 11.771332 0.4109642505645752\n",
      "Accuracy so far  0.6499999761581421\n",
      "Iteration:  0 / 10\n",
      "Epoch:  5 Test Accuracy=  0.5023255708605744 Train Accuracy= 0.5494761314325477  with a time of: 18.896195888519287\n",
      "Iteration:  0 / 42\n",
      "-1.4523275 10.022542 0.4041280746459961\n",
      "Accuracy so far  0.6000000238418579\n",
      "Iteration:  0 / 10\n",
      "Epoch:  6 Test Accuracy=  0.43255813731703646 Train Accuracy= 0.6006984855021253  with a time of: 19.476768493652344\n",
      "Iteration:  0 / 42\n",
      "-1.8843504 13.197824 0.4357569217681885\n",
      "Accuracy so far  0.5\n",
      "Iteration:  0 / 10\n",
      "Epoch:  7 Test Accuracy=  0.4418604678885881 Train Accuracy= 0.5878929032296879  with a time of: 19.010552406311035\n",
      "Iteration:  0 / 42\n",
      "-1.6895835 9.692985 0.3921043872833252\n",
      "Accuracy so far  0.5\n",
      "Iteration:  0 / 10\n",
      "Epoch:  8 Test Accuracy=  0.4837209346682526 Train Accuracy= 0.65890570666654  with a time of: 18.941231966018677\n",
      "Iteration:  0 / 42\n",
      "-1.5735087 8.589058 0.40709424018859863\n",
      "Accuracy so far  0.75\n",
      "Iteration:  0 / 10\n",
      "Epoch:  9 Test Accuracy=  0.45116278737090354 Train Accuracy= 0.6903376026952919  with a time of: 19.2337646484375\n",
      "Iteration:  0 / 42\n",
      "-1.8219792 10.271705 0.3878169059753418\n",
      "Accuracy so far  0.699999988079071\n",
      "Iteration:  0 / 10\n",
      "Epoch:  10 Test Accuracy=  0.46046512071476425 Train Accuracy= 0.6763678685056177  with a time of: 18.9539897441864\n",
      "Iteration:  0 / 42\n",
      "-1.8948505 12.636041 0.4052548408508301\n",
      "Accuracy so far  0.6499999761581421\n",
      "Iteration:  0 / 10\n",
      "Epoch:  11 Test Accuracy=  0.42790697618972423 Train Accuracy= 0.6752037259558166  with a time of: 18.865621089935303\n",
      "Iteration:  0 / 42\n",
      "-2.221965 15.939232 0.3939230442047119\n",
      "Accuracy so far  0.699999988079071\n",
      "Iteration:  0 / 10\n",
      "Epoch:  12 Test Accuracy=  0.42790698173434233 Train Accuracy= 0.6973224670145924  with a time of: 18.76708674430847\n",
      "Iteration:  0 / 42\n",
      "-2.0491004 12.115251 0.39164304733276367\n",
      "Accuracy so far  0.75\n",
      "Iteration:  0 / 10\n",
      "Epoch:  13 Test Accuracy=  0.4186046511627907 Train Accuracy= 0.6996507569713837  with a time of: 19.02542805671692\n",
      "Iteration:  0 / 42\n",
      "-1.8584199 9.59419 0.452467679977417\n",
      "Accuracy so far  0.699999988079071\n",
      "Iteration:  0 / 10\n",
      "Epoch:  14 Test Accuracy=  0.3767441843831262 Train Accuracy= 0.7438882467216607  with a time of: 19.55789613723755\n",
      "Iteration:  0 / 42\n",
      "-1.8019665 9.210506 0.4053637981414795\n",
      "Accuracy so far  0.800000011920929\n",
      "Iteration:  0 / 10\n",
      "Epoch:  15 Test Accuracy=  0.40930232613585715 Train Accuracy= 0.7741559995067272  with a time of: 20.28298568725586\n",
      "Iteration:  0 / 42\n",
      "-1.9990581 11.807732 0.5252516269683838\n",
      "Accuracy so far  0.949999988079071\n",
      "Iteration:  0 / 10\n",
      "Epoch:  16 Test Accuracy=  0.41860465947971787 Train Accuracy= 0.7951105945462814  with a time of: 20.498744010925293\n",
      "Iteration:  0 / 42\n",
      "-2.4283602 11.168495 0.4129350185394287\n",
      "Accuracy so far  0.8500000238418579\n",
      "Iteration:  0 / 10\n",
      "Epoch:  17 Test Accuracy=  0.40930232613585715 Train Accuracy= 0.8044237502101413  with a time of: 19.172577142715454\n",
      "Iteration:  0 / 42\n",
      "-2.3005414 11.7833395 0.40280890464782715\n",
      "Accuracy so far  0.949999988079071\n",
      "Iteration:  0 / 10\n",
      "Epoch:  18 Test Accuracy=  0.3767441843831262 Train Accuracy= 0.8381839348079161  with a time of: 18.89992928504944\n",
      "Iteration:  0 / 42\n",
      "-2.116552 15.353804 0.4003138542175293\n",
      "Accuracy so far  0.800000011920929\n",
      "Iteration:  0 / 10\n",
      "Epoch:  19 Test Accuracy=  0.46976744851400687 Train Accuracy= 0.8533178080779709  with a time of: 19.257383823394775\n",
      "Iteration:  0 / 42\n",
      "-2.3860362 12.561977 0.4094209671020508\n",
      "Accuracy so far  0.8999999761581421\n",
      "Iteration:  0 / 10\n",
      "Epoch:  20 Test Accuracy=  0.42790698173434233 Train Accuracy= 0.8533178122412756  with a time of: 19.206610441207886\n",
      "Iteration:  0 / 42\n",
      "-2.607016 13.377363 0.4008924961090088\n",
      "Accuracy so far  1.0\n",
      "Iteration:  0 / 10\n",
      "Epoch:  21 Test Accuracy=  0.44651162901590036 Train Accuracy= 0.8568102378090269  with a time of: 19.191187381744385\n",
      "Iteration:  0 / 42\n",
      "-2.3369853 11.538052 0.4132697582244873\n",
      "Accuracy so far  0.8500000238418579\n",
      "Iteration:  0 / 10\n",
      "Epoch:  22 Test Accuracy=  0.423255815062412 Train Accuracy= 0.8591385312352385  with a time of: 19.868586778640747\n",
      "Iteration:  0 / 42\n",
      "-2.679091 14.580057 0.41444826126098633\n",
      "Accuracy so far  0.8999999761581421\n",
      "Iteration:  0 / 10\n",
      "Epoch:  23 Test Accuracy=  0.4000000038812327 Train Accuracy= 0.9045401538209393  with a time of: 19.93227791786194\n",
      "Iteration:  0 / 42\n",
      "-2.0557542 12.568394 0.41689205169677734\n",
      "Accuracy so far  1.0\n",
      "Iteration:  0 / 10\n",
      "Epoch:  24 Test Accuracy=  0.40465116778085397 Train Accuracy= 0.912689166241114  with a time of: 20.020026922225952\n",
      "Iteration:  0 / 42\n",
      "-3.0253432 13.813198 0.4463765621185303\n",
      "Accuracy so far  0.949999988079071\n",
      "Iteration:  0 / 10\n",
      "Epoch:  25 Test Accuracy=  0.4325581400893455 Train Accuracy= 0.753201398222216  with a time of: 19.415621519088745\n"
     ]
    }
   ],
   "source": [
    "with tf.Session() as sess:\n",
    "    sess.run(init)\n",
    "    train=[]\n",
    "    test=[]\n",
    "    for epoch in range(n_epochs):\n",
    "        now=time.time()\n",
    "        trainAccuracySum=0\n",
    "        for iteration in range(len(X_train)//batch_size):\n",
    "            startPositionForNextBatch= batch_size*iteration\n",
    "            X_batch, y_batch=prepare_batch(batch_size ,startPositionForNextBatch ,X_train,y_train,pic_width,pic_height)\n",
    "            trainAccuracySum+= sess.run([training_op, accuracy],feed_dict={X:X_batch,y:y_batch})[1]\n",
    "            if(iteration%50==0):\n",
    "                print(\"Iteration: \", iteration, \"/\",len(X_train)//batch_size)\n",
    "                touple=output.eval(feed_dict={X:X_batch})[0],y_batch[0]\n",
    "                print(touple[0].mean(),touple[0][int(touple[1])],time.time()-now)\n",
    "                print(\"Accuracy so far \",trainAccuracySum/(iteration+1))\n",
    "                \n",
    "        testAccuracySum=0\n",
    "        for i in range(len(X_test)//batch_size):\n",
    "            poze, labele=prepare_batch(batch_size ,i*batch_size ,X_test,y_test,pic_width,pic_height)\n",
    "            testAccuracySum+=accuracy.eval(feed_dict={X:poze,y:labele})\n",
    "            if(i%100==0):\n",
    "                print(\"Iteration: \", i, \"/\",len(X_test)//batch_size)\n",
    "        \n",
    "        \n",
    "        testAccuracy=testAccuracySum/(len(X_test)/batch_size)\n",
    "        trainAccuracy=trainAccuracySum/(len(X_train)/batch_size)\n",
    "        \n",
    "        train.append(trainAccuracy)\n",
    "        test.append(testAccuracy)\n",
    "        print(\"Epoch: \", epoch, \"Test Accuracy= \", testAccuracy, \"Train Accuracy=\", trainAccuracy, \" with a time of:\", time.time()-now)\n",
    "\n",
    "        save_path=saver.save(sess,\"./balansat1\"+str(epoch)+\".ckpt\")\n",
    "        if len(train)>11:\n",
    "            if (train[-1]<train[-10]):\n",
    "                break"
   ]
  },
  {
   "cell_type": "code",
   "execution_count": null,
   "metadata": {
    "scrolled": true
   },
   "outputs": [],
   "source": [
    "a=[]\n",
    "with tf.Session() as sess:\n",
    "    saver.restore(sess,\"./convolutionalaToate57.ckpt\")\n",
    "    testAccuracySum=0\n",
    "    for i in range(len(X_test)//batch_size):\n",
    "            poze, labele=prepare_batch(batch_size ,i*batch_size ,X_test,y_test,pic_width,pic_height)\n",
    "            print(X_Normalized.eval(feed_dict={X:poze,y:labele}))\n",
    "#             for picture in batch:\n",
    "#                 ind = np.argmax(picture)\n",
    "#                 a.append(ind)"
   ]
  },
  {
   "cell_type": "code",
   "execution_count": null,
   "metadata": {},
   "outputs": [],
   "source": [
    "Epoch:  0 Test Accuracy=  0.03181980645785513 Train Accuracy= 0.024045767012660216  with a time of: 533.1380293369293\n",
    "Epoch:  1 Test Accuracy=  0.04004290281479641 Train Accuracy= 0.038795029577838515  with a time of: 546.125049591064\n",
    "Epoch:  2 Test Accuracy=  0.04647836947535932 Train Accuracy= 0.05086260815529409  with a time of: 532.0206983089447\n",
    "Epoch:  3 Test Accuracy=  0.0436181619411756 Train Accuracy= 0.06252793409379853  with a time of: 525.010951757431  \n",
    "Epoch:  4 Test Accuracy=  0.05166249514201474 Train Accuracy= 0.07745597555319648  with a time of: 517.8365206718445\n",
    "Epoch:  5 Test Accuracy=  0.05237754733355974 Train Accuracy= 0.08952355409735188  with a time of: 550.10799741745\n",
    "Epoch:  6 Test Accuracy=  0.05362888772811769 Train Accuracy= 0.10686511139878162  with a time of: 693.866245508194\n",
    "Epoch:  7 Test Accuracy=  0.05398641380724159 Train Accuracy= 0.12340216344728422  with a time of: 612.8364889621735\n",
    "Epoch:  8 Test Accuracy=  0.055952806193561355 Train Accuracy= 0.1401179942568058  with a time of: 488.65868377685547\n",
    "Epoch:  9 Test Accuracy=  0.059170539840166174 Train Accuracy= 0.1573254670899505  with a time of: 488.19111680984497\n",
    "Epoch:  10 Test Accuracy=  0.058813013761042275 Train Accuracy= 0.17292392985014318  with a time of: 488.49968552589417\n",
    "Epoch:  11 Test Accuracy=  0.056667858218620366 Train Accuracy= 0.19683561354337434  with a time of: 487.8555109500885\n",
    "Epoch:  12 Test Accuracy=  0.054522702742792854 Train Accuracy= 0.21971931721496657  with a time of: 495.15245294570923"
   ]
  },
  {
   "cell_type": "code",
   "execution_count": null,
   "metadata": {},
   "outputs": [],
   "source": [
    "X_final"
   ]
  },
  {
   "cell_type": "code",
   "execution_count": null,
   "metadata": {},
   "outputs": [],
   "source": [
    "y_final"
   ]
  },
  {
   "cell_type": "code",
   "execution_count": null,
   "metadata": {},
   "outputs": [],
   "source": [
    "io.imshow(X_final[200])"
   ]
  },
  {
   "cell_type": "code",
   "execution_count": null,
   "metadata": {},
   "outputs": [],
   "source": [
    "X_final[200]"
   ]
  },
  {
   "cell_type": "code",
   "execution_count": null,
   "metadata": {},
   "outputs": [],
   "source": [
    "y_races[y_final[200]]"
   ]
  },
  {
   "cell_type": "code",
   "execution_count": null,
   "metadata": {},
   "outputs": [],
   "source": []
  },
  {
   "cell_type": "code",
   "execution_count": null,
   "metadata": {},
   "outputs": [],
   "source": []
  },
  {
   "cell_type": "code",
   "execution_count": null,
   "metadata": {},
   "outputs": [],
   "source": []
  },
  {
   "cell_type": "code",
   "execution_count": null,
   "metadata": {},
   "outputs": [],
   "source": []
  },
  {
   "cell_type": "code",
   "execution_count": 32,
   "metadata": {},
   "outputs": [
    {
     "data": {
      "text/plain": [
       "[0.02243675732765524,\n",
       " 0.04402431477165269,\n",
       " 0.06114239865968766,\n",
       " 0.08594797711206353,\n",
       " 0.11347993448092937,\n",
       " 0.15173862815033795,\n",
       " 0.1949584368681944,\n",
       " 0.2375525190408624,\n",
       " 0.28144274839351013,\n",
       " 0.32716546180693257,\n",
       " 0.36917851257297046,\n",
       " 0.41659962508770504,\n",
       " 0.470635560416521,\n",
       " 0.5155537691714244,\n",
       " 0.5522034515124645,\n",
       " 0.5972557441312548,\n",
       " 0.6474479305911471,\n",
       " 0.685796012739463,\n",
       " 0.7183784748611304,\n",
       " 0.740144811500714,\n",
       " 0.7619558424330316,\n",
       " 0.7796996528196347,\n",
       " 0.7984267463843496,\n",
       " 0.8106284091670188,\n",
       " 0.8243496919686346,\n",
       " 0.8319477967520315,\n",
       " 0.8484401527695311,\n",
       " 0.8588987208994078,\n",
       " 0.8669884671386598,\n",
       " 0.8762402765508139,\n",
       " 0.8809332234552358,\n",
       " 0.8905872849385732,\n",
       " 0.897246800223869,\n",
       " 0.9060963567656358,\n",
       " 0.9131134299093014,\n",
       " 0.9208009233314464,\n",
       " 0.9278179969546344,\n",
       " 0.9338070904696031,\n",
       " 0.9390363740550189,\n",
       " 0.9406453842045613,\n",
       " 0.9450254681560707,\n",
       " 0.9512380365712868,\n",
       " 0.9540091106396551,\n",
       " 0.9585232792542555,\n",
       " 0.962948058324343,\n",
       " 0.9611155739671968,\n",
       " 0.9618306893109743]"
      ]
     },
     "execution_count": 32,
     "metadata": {},
     "output_type": "execute_result"
    }
   ],
   "source": [
    "train"
   ]
  },
  {
   "cell_type": "code",
   "execution_count": 33,
   "metadata": {},
   "outputs": [
    {
     "data": {
      "text/plain": [
       "[0.04129424456787996,\n",
       " 0.04379692616944744,\n",
       " 0.053628889093302726,\n",
       " 0.05917054102554635,\n",
       " 0.06292456328804935,\n",
       " 0.06453343003476822,\n",
       " 0.06363961524651397,\n",
       " 0.06596353369863876,\n",
       " 0.062030748619665024,\n",
       " 0.059885592944054336,\n",
       " 0.05791920033797308,\n",
       " 0.058097963314270355,\n",
       " 0.05899177822239449,\n",
       " 0.057561674425335156,\n",
       " 0.05720414843278397,\n",
       " 0.05559528173934063,\n",
       " 0.05470146692444863,\n",
       " 0.05416517795560016,\n",
       " 0.056846622493508296,\n",
       " 0.052198785522664326,\n",
       " 0.050947444621988996,\n",
       " 0.049159815098756034,\n",
       " 0.05166249662041025,\n",
       " 0.05202002250641041,\n",
       " 0.05398641516576719,\n",
       " 0.054880229860789276,\n",
       " 0.05631033367116749,\n",
       " 0.056131570601638064,\n",
       " 0.05470146692444863,\n",
       " 0.05756167429214638,\n",
       " 0.05559528169938399,\n",
       " 0.053628889093302726,\n",
       " 0.05899177802261132,\n",
       " 0.054880229914064785,\n",
       " 0.05452270405470239,\n",
       " 0.05791920028469756,\n",
       " 0.054165177982237925,\n",
       " 0.05648909655423262,\n",
       " 0.05416517800887568,\n",
       " 0.05809796318108157,\n",
       " 0.054165178062151195,\n",
       " 0.05988559291741658,\n",
       " 0.057919200324654196,\n",
       " 0.06060064480928681,\n",
       " 0.05917054102554635,\n",
       " 0.057204148446102845,\n",
       " 0.053450126196918725]"
      ]
     },
     "execution_count": 33,
     "metadata": {},
     "output_type": "execute_result"
    }
   ],
   "source": [
    "test"
   ]
  },
  {
   "cell_type": "code",
   "execution_count": null,
   "metadata": {},
   "outputs": [],
   "source": []
  }
 ],
 "metadata": {
  "kernelspec": {
   "display_name": "Python 3",
   "language": "python",
   "name": "python3"
  },
  "language_info": {
   "codemirror_mode": {
    "name": "ipython",
    "version": 3
   },
   "file_extension": ".py",
   "mimetype": "text/x-python",
   "name": "python",
   "nbconvert_exporter": "python",
   "pygments_lexer": "ipython3",
   "version": "3.6.8"
  }
 },
 "nbformat": 4,
 "nbformat_minor": 2
}
